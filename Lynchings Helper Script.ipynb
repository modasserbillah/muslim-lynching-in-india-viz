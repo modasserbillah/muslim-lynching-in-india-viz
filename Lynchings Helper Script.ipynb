{
 "cells": [
  {
   "cell_type": "markdown",
   "metadata": {},
   "source": [
    "## Helper Script to get latitude longitudes from Location Names for plotting. Then putting them back in the csv for using in dash visualization.\n",
    "\n"
   ]
  },
  {
   "cell_type": "code",
   "execution_count": 1,
   "metadata": {
    "collapsed": false
   },
   "outputs": [],
   "source": [
    "import pandas as pd\n",
    "import requests"
   ]
  },
  {
   "cell_type": "code",
   "execution_count": 19,
   "metadata": {
    "collapsed": false
   },
   "outputs": [],
   "source": [
    "df = pd.read_csv('Lynchings.csv')\n"
   ]
  },
  {
   "cell_type": "code",
   "execution_count": 14,
   "metadata": {
    "collapsed": false
   },
   "outputs": [],
   "source": [
    "df['latlong'] = df['Place'].apply(getLatLong)\n",
    "df['Lat'], df['Long']=map(list, zip(*list(df['latlong'])))\n",
    "\n"
   ]
  },
  {
   "cell_type": "code",
   "execution_count": 3,
   "metadata": {
    "collapsed": true
   },
   "outputs": [],
   "source": [
    "def getLatLong(address):\n",
    "    url = 'http://maps.googleapis.com/maps/api/geocode/json'\n",
    "    mysensor = 'false'\n",
    "    payload = {'address':address, 'sensor':mysensor}\n",
    "    r = requests.get(url, params=payload)\n",
    "\n",
    "    json = r.json()\n",
    "    lat = json['results'][0]['geometry']['location']['lat']\n",
    "    lng = json['results'][0]['geometry']['location']['lng']\n",
    "    return lat, lng"
   ]
  },
  {
   "cell_type": "code",
   "execution_count": 4,
   "metadata": {
    "collapsed": true
   },
   "outputs": [],
   "source": []
  },
  {
   "cell_type": "code",
   "execution_count": 20,
   "metadata": {
    "collapsed": false
   },
   "outputs": [
    {
     "data": {
      "text/html": [
       "<div>\n",
       "<table border=\"1\" class=\"dataframe\">\n",
       "  <thead>\n",
       "    <tr style=\"text-align: right;\">\n",
       "      <th></th>\n",
       "      <th>Serial</th>\n",
       "      <th>Time</th>\n",
       "      <th>Victim</th>\n",
       "      <th>Place</th>\n",
       "      <th>Description</th>\n",
       "      <th>Link to News</th>\n",
       "      <th>latlong</th>\n",
       "      <th>Lat</th>\n",
       "      <th>Long</th>\n",
       "    </tr>\n",
       "  </thead>\n",
       "  <tbody>\n",
       "    <tr>\n",
       "      <th>0</th>\n",
       "      <td>1</td>\n",
       "      <td>June, 2014</td>\n",
       "      <td>Mohsin Shaikh</td>\n",
       "      <td>Pune</td>\n",
       "      <td>Killed for wearing beard while returning from ...</td>\n",
       "      <td>https://en.wikipedia.org/wiki/Pune_techie_murd...</td>\n",
       "      <td>(18.5204303, 73.8567437)</td>\n",
       "      <td>18.520430</td>\n",
       "      <td>73.856744</td>\n",
       "    </tr>\n",
       "    <tr>\n",
       "      <th>1</th>\n",
       "      <td>2</td>\n",
       "      <td>March, 2015</td>\n",
       "      <td>Syed Farid Khan</td>\n",
       "      <td>Dimapur, Nagaland</td>\n",
       "      <td>Lynched by a mob of around 7000 for alleged rape</td>\n",
       "      <td>https://en.wikipedia.org/wiki/2015_Dimapur_mob...</td>\n",
       "      <td>(25.8629885, 93.75366629999999)</td>\n",
       "      <td>25.862989</td>\n",
       "      <td>93.753666</td>\n",
       "    </tr>\n",
       "    <tr>\n",
       "      <th>2</th>\n",
       "      <td>3</td>\n",
       "      <td>September, 2015</td>\n",
       "      <td>Mohammad Akhlaq</td>\n",
       "      <td>Dadri</td>\n",
       "      <td>Dragged from his home and lynched for allegedl...</td>\n",
       "      <td>https://en.wikipedia.org/wiki/2015_Dadri_mob_l...</td>\n",
       "      <td>(28.5461902, 77.55621)</td>\n",
       "      <td>28.546190</td>\n",
       "      <td>77.556210</td>\n",
       "    </tr>\n",
       "    <tr>\n",
       "      <th>3</th>\n",
       "      <td>4</td>\n",
       "      <td>October, 2015</td>\n",
       "      <td>Zahid Rasool Bhatt</td>\n",
       "      <td>Udhampur</td>\n",
       "      <td>Kashmiri truck driver, his truck was torched a...</td>\n",
       "      <td>http://indiatoday.intoday.in/story/16-year-old...</td>\n",
       "      <td>(32.9159847, 75.1416173)</td>\n",
       "      <td>32.915985</td>\n",
       "      <td>75.141617</td>\n",
       "    </tr>\n",
       "    <tr>\n",
       "      <th>4</th>\n",
       "      <td>5</td>\n",
       "      <td>January, 2016</td>\n",
       "      <td>Manakkadu Veettil Shabeer</td>\n",
       "      <td>Attingal, Kerala</td>\n",
       "      <td>Lynched with hockey sticks in broad daylight.</td>\n",
       "      <td>http://indianexpress.com/article/india/india-n...</td>\n",
       "      <td>(8.6950338, 76.817881)</td>\n",
       "      <td>8.695034</td>\n",
       "      <td>76.817881</td>\n",
       "    </tr>\n",
       "  </tbody>\n",
       "</table>\n",
       "</div>"
      ],
      "text/plain": [
       "   Serial             Time                     Victim              Place  \\\n",
       "0       1       June, 2014              Mohsin Shaikh               Pune   \n",
       "1       2      March, 2015            Syed Farid Khan  Dimapur, Nagaland   \n",
       "2       3  September, 2015            Mohammad Akhlaq              Dadri   \n",
       "3       4    October, 2015         Zahid Rasool Bhatt           Udhampur   \n",
       "4       5    January, 2016  Manakkadu Veettil Shabeer   Attingal, Kerala   \n",
       "\n",
       "                                         Description  \\\n",
       "0  Killed for wearing beard while returning from ...   \n",
       "1   Lynched by a mob of around 7000 for alleged rape   \n",
       "2  Dragged from his home and lynched for allegedl...   \n",
       "3  Kashmiri truck driver, his truck was torched a...   \n",
       "4      Lynched with hockey sticks in broad daylight.   \n",
       "\n",
       "                                        Link to News  \\\n",
       "0  https://en.wikipedia.org/wiki/Pune_techie_murd...   \n",
       "1  https://en.wikipedia.org/wiki/2015_Dimapur_mob...   \n",
       "2  https://en.wikipedia.org/wiki/2015_Dadri_mob_l...   \n",
       "3  http://indiatoday.intoday.in/story/16-year-old...   \n",
       "4  http://indianexpress.com/article/india/india-n...   \n",
       "\n",
       "                           latlong        Lat       Long  \n",
       "0         (18.5204303, 73.8567437)  18.520430  73.856744  \n",
       "1  (25.8629885, 93.75366629999999)  25.862989  93.753666  \n",
       "2           (28.5461902, 77.55621)  28.546190  77.556210  \n",
       "3         (32.9159847, 75.1416173)  32.915985  75.141617  \n",
       "4           (8.6950338, 76.817881)   8.695034  76.817881  "
      ]
     },
     "execution_count": 20,
     "metadata": {},
     "output_type": "execute_result"
    }
   ],
   "source": [
    "df.head()"
   ]
  },
  {
   "cell_type": "code",
   "execution_count": 17,
   "metadata": {
    "collapsed": false
   },
   "outputs": [],
   "source": [
    "df.to_csv('Lynchings.csv')"
   ]
  },
  {
   "cell_type": "code",
   "execution_count": null,
   "metadata": {
    "collapsed": true
   },
   "outputs": [],
   "source": []
  }
 ],
 "metadata": {
  "kernelspec": {
   "display_name": "Python 2",
   "language": "python",
   "name": "python2"
  },
  "language_info": {
   "codemirror_mode": {
    "name": "ipython",
    "version": 2
   },
   "file_extension": ".py",
   "mimetype": "text/x-python",
   "name": "python",
   "nbconvert_exporter": "python",
   "pygments_lexer": "ipython2",
   "version": "2.7.13"
  }
 },
 "nbformat": 4,
 "nbformat_minor": 2
}
